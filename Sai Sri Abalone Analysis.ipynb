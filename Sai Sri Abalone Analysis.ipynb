{
 "cells": [
  {
   "cell_type": "code",
   "execution_count": 20,
   "id": "9b7d09ab",
   "metadata": {},
   "outputs": [],
   "source": [
    "#Initialising the packages\n",
    "import pandas as pd\n",
    "import numpy as np\n",
    "from sklearn.model_selection import train_test_split\n",
    "from sklearn.metrics import accuracy_score,  mean_squared_error, mean_absolute_error, r2_score,classification_report\n",
    "import matplotlib.pyplot as plt\n",
    "from sklearn.tree import DecisionTreeClassifier\n",
    "from sklearn.neighbors import KNeighborsClassifier\n",
    "from sklearn.ensemble import RandomForestClassifier\n",
    "from sklearn.decomposition import PCA\n",
    "from sklearn.preprocessing import MinMaxScaler"
   ]
  },
  {
   "cell_type": "code",
   "execution_count": 3,
   "id": "25978787",
   "metadata": {},
   "outputs": [],
   "source": [
    "#Loading the values of abalone\n",
    "abalone_data=pd.read_csv(r\"C:\\\\Sai Sri\\Abalone_Data.csv\")"
   ]
  },
  {
   "cell_type": "code",
   "execution_count": 4,
   "id": "2bab3e77",
   "metadata": {},
   "outputs": [
    {
     "name": "stdout",
     "output_type": "stream",
     "text": [
      "<class 'pandas.core.frame.DataFrame'>\n",
      "RangeIndex: 4177 entries, 0 to 4176\n",
      "Data columns (total 9 columns):\n",
      " #   Column          Non-Null Count  Dtype  \n",
      "---  ------          --------------  -----  \n",
      " 0   Sex             4177 non-null   object \n",
      " 1   Length          4177 non-null   float64\n",
      " 2   Diameter        4177 non-null   float64\n",
      " 3   Height          4177 non-null   float64\n",
      " 4   Whole_Weight    4177 non-null   float64\n",
      " 5   Shucked_Weight  4177 non-null   float64\n",
      " 6   Viscera_Weight  4177 non-null   float64\n",
      " 7   Shell_Weight    4177 non-null   float64\n",
      " 8   Rings_Category  4177 non-null   int64  \n",
      "dtypes: float64(7), int64(1), object(1)\n",
      "memory usage: 293.8+ KB\n"
     ]
    }
   ],
   "source": [
    "#Dataset information\n",
    "abalone_data.info()"
   ]
  },
  {
   "cell_type": "code",
   "execution_count": 5,
   "id": "e51928fc",
   "metadata": {},
   "outputs": [],
   "source": [
    "#Replacing null values with 0\n",
    "abalone_data=abalone_data.fillna(0)"
   ]
  },
  {
   "cell_type": "code",
   "execution_count": 6,
   "id": "aa1b2c3d",
   "metadata": {},
   "outputs": [],
   "source": [
    "#Dropping certain unrequired variables and creating final feature and target variable\n",
    "X = abalone_data.drop(['Rings_Category'],axis=1)\n",
    "Y = abalone_data.loc[:,'Rings_Category']"
   ]
  },
  {
   "cell_type": "code",
   "execution_count": 7,
   "id": "e7729582",
   "metadata": {},
   "outputs": [],
   "source": [
    "#Transform categorical data into dummy form \n",
    "Sex = pd.get_dummies(X['Sex'],drop_first=True)"
   ]
  },
  {
   "cell_type": "code",
   "execution_count": 8,
   "id": "f39a785e",
   "metadata": {},
   "outputs": [],
   "source": [
    "#Drop unrequired variables\n",
    "X.drop(['Sex'],axis=1,inplace=True)"
   ]
  },
  {
   "cell_type": "code",
   "execution_count": 9,
   "id": "e20be599",
   "metadata": {},
   "outputs": [],
   "source": [
    "#Forming final independent variable\n",
    "X = pd.concat([X,Sex],axis=1)"
   ]
  },
  {
   "cell_type": "code",
   "execution_count": 10,
   "id": "9b048994",
   "metadata": {},
   "outputs": [],
   "source": [
    "#Forming the final test and training dataset\n",
    "X_train,X_test,Y_train,Y_test = train_test_split(X, Y ,test_size=0.20,random_state=10)"
   ]
  },
  {
   "cell_type": "code",
   "execution_count": 22,
   "id": "0d102152",
   "metadata": {},
   "outputs": [
    {
     "name": "stdout",
     "output_type": "stream",
     "text": [
      "KNN Mean Absolute Error equals: 0.24401913875598086\n",
      "KNN R-squared score equals: 0.02324702324702299\n",
      "KNN Root Mean Squared Error equals: 0.4939829336687461\n",
      "KNN Classification Report equals: \n",
      "               precision    recall  f1-score   support\n",
      "\n",
      "           0       0.72      0.85      0.78       429\n",
      "           1       0.80      0.66      0.72       407\n",
      "\n",
      "    accuracy                           0.76       836\n",
      "   macro avg       0.76      0.75      0.75       836\n",
      "weighted avg       0.76      0.76      0.75       836\n",
      "\n"
     ]
    }
   ],
   "source": [
    "#KNN Machine Learning training\n",
    "import warnings\n",
    "with warnings.catch_warnings(record=True):\n",
    "    knn_model = KNeighborsClassifier(n_neighbors = 4, metric = 'minkowski', p = 2)\n",
    "    knn_model.fit(X_train, Y_train)\n",
    "    prdct1 = knn_model.predict(X_test)\n",
    "    print('KNN Mean Absolute Error equals:', mean_absolute_error(Y_test, prdct1))\n",
    "    print('KNN R-squared score equals:',r2_score(Y_test, prdct1))\n",
    "    print('KNN Root Mean Squared Error equals:', np.sqrt(mean_squared_error(Y_test, prdct1)))\n",
    "    print('KNN Classification Report equals: \\n', classification_report(Y_test, prdct1))"
   ]
  },
  {
   "cell_type": "code",
   "execution_count": 23,
   "id": "c5b25c11",
   "metadata": {},
   "outputs": [
    {
     "name": "stdout",
     "output_type": "stream",
     "text": [
      "Random Forest Mean Absolute Error equals: 0.19617224880382775\n",
      "Random Forest R-squared score equals: 0.2147672147672146\n",
      "Random Forest Root Mean Squared Error equals: 0.4429133648963731\n",
      "Random Forest Classification Report equals: \n",
      "               precision    recall  f1-score   support\n",
      "\n",
      "           0       0.82      0.79      0.80       429\n",
      "           1       0.79      0.82      0.80       407\n",
      "\n",
      "    accuracy                           0.80       836\n",
      "   macro avg       0.80      0.80      0.80       836\n",
      "weighted avg       0.80      0.80      0.80       836\n",
      "\n"
     ]
    }
   ],
   "source": [
    "#Random Forest Machine Learning training\n",
    "import warnings\n",
    "with warnings.catch_warnings(record=True):\n",
    "    rforest_model = RandomForestClassifier(random_state=5)\n",
    "    rforest_model.fit(X_train, Y_train)\n",
    "    prdct2 = rforest_model.predict(X_test)\n",
    "    print('Random Forest Mean Absolute Error equals:', mean_absolute_error(Y_test, prdct2))\n",
    "    print('Random Forest R-squared score equals:',r2_score(Y_test, prdct2))\n",
    "    print('Random Forest Root Mean Squared Error equals:', np.sqrt(mean_squared_error(Y_test, prdct2)))\n",
    "    print('Random Forest Classification Report equals: \\n', classification_report(Y_test, prdct2))"
   ]
  },
  {
   "cell_type": "code",
   "execution_count": 24,
   "id": "03debb7d",
   "metadata": {},
   "outputs": [
    {
     "name": "stdout",
     "output_type": "stream",
     "text": [
      "Decision Tree Mean Absolute Error equals: 0.2942583732057416\n",
      "Decision Tree R-squared score equals: -0.1778491778491782\n",
      "Decision Tree Root Mean Squared Error equals: 0.5424558721276244\n",
      "Decision Tree Classification Report equals: \n",
      "               precision    recall  f1-score   support\n",
      "\n",
      "           0       0.70      0.75      0.72       429\n",
      "           1       0.71      0.66      0.69       407\n",
      "\n",
      "    accuracy                           0.71       836\n",
      "   macro avg       0.71      0.70      0.70       836\n",
      "weighted avg       0.71      0.71      0.71       836\n",
      "\n"
     ]
    }
   ],
   "source": [
    "#Decision Tree Machine Learning training\n",
    "import warnings\n",
    "with warnings.catch_warnings(record=True):\n",
    "    dtree_model = DecisionTreeClassifier()\n",
    "    dtree_model.fit(X_train, Y_train)\n",
    "    prdct3 = dtree_model.predict(X_test)\n",
    "    print('Decision Tree Mean Absolute Error equals:', mean_absolute_error(Y_test, prdct3))\n",
    "    print('Decision Tree R-squared score equals:',r2_score(Y_test, prdct3))\n",
    "    print('Decision Tree Root Mean Squared Error equals:', np.sqrt(mean_squared_error(Y_test, prdct3)))\n",
    "    print('Decision Tree Classification Report equals: \\n', classification_report(Y_test, prdct3))"
   ]
  },
  {
   "cell_type": "code",
   "execution_count": 14,
   "id": "3bfc34e7",
   "metadata": {},
   "outputs": [],
   "source": [
    "#PCA Clustering\n",
    "pca = PCA()\n",
    "value = X.values\n",
    "pca.fit(value)\n",
    "abalone_pca = pca.transform(value)"
   ]
  },
  {
   "cell_type": "code",
   "execution_count": 15,
   "id": "85134311",
   "metadata": {},
   "outputs": [
    {
     "data": {
      "text/plain": [
       "Text(0, 0.5, 'PC 2')"
      ]
     },
     "execution_count": 15,
     "metadata": {},
     "output_type": "execute_result"
    },
    {
     "data": {
      "image/png": "[encoded data removed]",
      "text/plain": [
       "<Figure size 432x288 with 1 Axes>"
      ]
     },
     "metadata": {
      "needs_background": "light"
     },
     "output_type": "display_data"
    }
   ],
   "source": [
    "#Visualisation of the principal components\n",
    "axs = plt.gca()\n",
    "axs.scatter(abalone_pca[:,0], abalone_pca[:,1])\n",
    "axs.set_xlabel('PC 1')\n",
    "axs.set_ylabel('PC 2')"
   ]
  },
  {
   "cell_type": "code",
   "execution_count": 17,
   "id": "a50a2211",
   "metadata": {},
   "outputs": [
    {
     "data": {
      "text/plain": [
       "[Text(0, 0, 'PC0'),\n",
       " Text(1, 0, 'PC1'),\n",
       " Text(2, 0, 'PC2'),\n",
       " Text(3, 0, 'PC3'),\n",
       " Text(4, 0, 'PC4'),\n",
       " Text(5, 0, 'PC5'),\n",
       " Text(6, 0, 'PC6'),\n",
       " Text(7, 0, 'PC7'),\n",
       " Text(8, 0, 'PC8')]"
      ]
     },
     "execution_count": 17,
     "metadata": {},
     "output_type": "execute_result"
    },
    {
     "data": {
      "image/png": "[encoded data removed]",
      "text/plain": [
       "<Figure size 432x288 with 1 Axes>"
      ]
     },
     "metadata": {
      "needs_background": "light"
     },
     "output_type": "display_data"
    }
   ],
   "source": [
    "#Scree plot visualisation for PCA clustering\n",
    "axs = plt.gca()\n",
    "expl_var = pca.explained_variance_ratio_\n",
    "axs.plot(expl_var, marker='x')\n",
    "axs.set_ylim(0,1.)\n",
    "axs.set_xlabel('Principal Components')\n",
    "axs.set_xticks([0,1,2,3,4,5,6,7,8])\n",
    "axs.set_xticklabels([\"PC{}\".format(i) for i in range(9)])"
   ]
  },
  {
   "cell_type": "code",
   "execution_count": 18,
   "id": "a9d2572e",
   "metadata": {},
   "outputs": [
    {
     "name": "stdout",
     "output_type": "stream",
     "text": [
      "[6.28424710e-01 2.55498923e-01 1.04980433e-01 4.81946974e-03\n",
      " 3.63529813e-03 1.31111958e-03 6.10877709e-04 5.35045819e-04\n",
      " 1.84123115e-04]\n"
     ]
    }
   ],
   "source": [
    "#Principal component explanation\n",
    "print(pca.explained_variance_ratio_)"
   ]
  },
  {
   "cell_type": "code",
   "execution_count": null,
   "id": "37877106",
   "metadata": {},
   "outputs": [],
   "source": []
  }
 ],
 "metadata": {
  "kernelspec": {
   "display_name": "Python 3 (ipykernel)",
   "language": "python",
   "name": "python3"
  },
  "language_info": {
   "codemirror_mode": {
    "name": "ipython",
    "version": 3
   },
   "file_extension": ".py",
   "mimetype": "text/x-python",
   "name": "python",
   "nbconvert_exporter": "python",
   "pygments_lexer": "ipython3",
   "version": "3.9.7"
  }
 },
 "nbformat": 4,
 "nbformat_minor": 5
}
